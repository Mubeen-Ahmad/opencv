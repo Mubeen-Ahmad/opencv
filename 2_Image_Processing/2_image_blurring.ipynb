{
 "cells": [
  {
   "cell_type": "markdown",
   "id": "477e00d8",
   "metadata": {},
   "source": [
    "### Image Blurring refers to making the image less clear or distinct. \n",
    "### It is done with the help of various low pass filter kernels.\n",
    "\n",
    "* It helps in Noise removal. As noise is considered as high pass signal so by the application of low pass filter kernel we restrict noise.\n",
    "* It helps in smoothing the image.\n",
    "* Low intensity edges are removed.\n",
    "* It helps in hiding the details when necessary. For e.g. in many cases police deliberately want to hide the face of the victim, in such cases blurring is required."
   ]
  },
  {
   "cell_type": "code",
   "execution_count": 5,
   "id": "da61bae3",
   "metadata": {},
   "outputs": [],
   "source": [
    "import cv2\n",
    "import matplotlib.pyplot as plt\n",
    "\n",
    "def convert(img):\n",
    "    plt.figure((10,10))\n",
    "    return cv2.cvtColor(img,cv2.COLOR_BGR2RGB)"
   ]
  },
  {
   "cell_type": "code",
   "execution_count": null,
   "id": "eb7ab779",
   "metadata": {},
   "outputs": [],
   "source": [
    "import cv2\n",
    "import urllib\n",
    "import numpy as np\n",
    "\n",
    "req = urllib.urlopen('http://answers.opencv.org/upfiles/logo_2.png')\n",
    "arr = np.asarray(bytearray(req.read()), dtype=np.uint8)\n",
    "img = cv2.imdecode(arr, -1) # 'Load it as it is'\n"
   ]
  }
 ],
 "metadata": {
  "kernelspec": {
   "display_name": "Python 3 (ipykernel)",
   "language": "python",
   "name": "python3"
  },
  "language_info": {
   "codemirror_mode": {
    "name": "ipython",
    "version": 3
   },
   "file_extension": ".py",
   "mimetype": "text/x-python",
   "name": "python",
   "nbconvert_exporter": "python",
   "pygments_lexer": "ipython3",
   "version": "3.9.2"
  }
 },
 "nbformat": 4,
 "nbformat_minor": 5
}
