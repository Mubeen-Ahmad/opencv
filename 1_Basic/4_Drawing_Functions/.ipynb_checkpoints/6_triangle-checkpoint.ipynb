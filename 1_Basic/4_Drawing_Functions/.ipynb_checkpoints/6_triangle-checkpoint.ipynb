{
 "cells": [
  {
   "cell_type": "code",
   "execution_count": 2,
   "id": "438933a2",
   "metadata": {},
   "outputs": [],
   "source": [
    "import cv2\n",
    "import matplotlib.pyplot as plt\n",
    "import numpy as np"
   ]
  },
  {
   "cell_type": "code",
   "execution_count": null,
   "id": "2b5fc4f7",
   "metadata": {},
   "outputs": [],
   "source": [
    "img = np.zeros((512, 512, 3), dtype = \"uint8\")\n",
    "penta = np.array([[[40,160],[120,100],[200,160],[160,240],[80,240]]], np.int32)\n",
    "triangle = np.array([[[240, 130], [380, 230], [190, 280]]], np.int32)\n",
    "cv2.polylines(img, [triangle], True, (0,255,0), thickness=3)\n",
    "img_mod = cv2.polylines(img, [penta], True, (255,120,255),3)\n",
    "cv2.imshow('Shapes', img_mod)\n",
    "cv2.waitKey(0)\n",
    "cv2.destroyAllWindows()"
   ]
  }
 ],
 "metadata": {
  "kernelspec": {
   "display_name": "Python 3 (ipykernel)",
   "language": "python",
   "name": "python3"
  },
  "language_info": {
   "codemirror_mode": {
    "name": "ipython",
    "version": 3
   },
   "file_extension": ".py",
   "mimetype": "text/x-python",
   "name": "python",
   "nbconvert_exporter": "python",
   "pygments_lexer": "ipython3",
   "version": "3.9.2"
  }
 },
 "nbformat": 4,
 "nbformat_minor": 5
}
