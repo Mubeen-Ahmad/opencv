{
 "cells": [
  {
   "cell_type": "markdown",
   "id": "904ab370",
   "metadata": {},
   "source": [
    "# pixel --> color --> image --> color spaces --> channel"
   ]
  },
  {
   "cell_type": "markdown",
   "id": "b9fe6051",
   "metadata": {},
   "source": [
    "* # resize\n",
    "* # rectangle\n",
    "* # circle\n",
    "* # line\n",
    "* # ellipse\n",
    "* # putText\n",
    "* # linetype\n"
   ]
  },
  {
   "cell_type": "markdown",
   "id": "23265463",
   "metadata": {},
   "source": [
    "# filters\n",
    "\n",
    "* # .filter2D\n",
    "* # .blure\n",
    "* # .GaussianBlur\n",
    "* # .medianBlur\n",
    "\n",
    "* # np.array() --> kernal\n"
   ]
  },
  {
   "cell_type": "markdown",
   "id": "65758ad8",
   "metadata": {},
   "source": [
    "# Thresholding\n",
    "\n",
    "* # threshold\n",
    "* # Canny \n",
    "* # FindContours\n",
    "* # DrawContours\n",
    "* # selectROI\n",
    "* # addWeighted \n",
    "* # crop_img = img[y:y+h,x:x+w]\n",
    "* # "
   ]
  },
  {
   "cell_type": "code",
   "execution_count": null,
   "id": "205b7bf3",
   "metadata": {},
   "outputs": [],
   "source": []
  },
  {
   "cell_type": "code",
   "execution_count": null,
   "id": "9d4dace6",
   "metadata": {},
   "outputs": [],
   "source": []
  },
  {
   "cell_type": "code",
   "execution_count": null,
   "id": "19eb8c56",
   "metadata": {},
   "outputs": [],
   "source": []
  },
  {
   "cell_type": "code",
   "execution_count": null,
   "id": "937d649e",
   "metadata": {},
   "outputs": [],
   "source": []
  },
  {
   "cell_type": "code",
   "execution_count": null,
   "id": "70061816",
   "metadata": {},
   "outputs": [],
   "source": []
  }
 ],
 "metadata": {
  "kernelspec": {
   "display_name": "Python 3 (ipykernel)",
   "language": "python",
   "name": "python3"
  },
  "language_info": {
   "codemirror_mode": {
    "name": "ipython",
    "version": 3
   },
   "file_extension": ".py",
   "mimetype": "text/x-python",
   "name": "python",
   "nbconvert_exporter": "python",
   "pygments_lexer": "ipython3",
   "version": "3.9.2"
  }
 },
 "nbformat": 4,
 "nbformat_minor": 5
}
