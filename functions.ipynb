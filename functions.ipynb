{
 "cells": [
  {
   "cell_type": "markdown",
   "id": "591dedf1",
   "metadata": {},
   "source": [
    "# pixel --> color --> image --> color spaces --> channel"
   ]
  },
  {
   "cell_type": "markdown",
   "id": "f7e2ce17",
   "metadata": {},
   "source": [
    "* # resize\n",
    "* # rectangle\n",
    "* # circle\n",
    "* # line\n",
    "* # ellipse\n",
    "* # putText\n",
    "* # linetype\n"
   ]
  },
  {
   "cell_type": "markdown",
   "id": "a5f55dfe",
   "metadata": {},
   "source": [
    "# filters\n",
    "\n",
    "* # .filter2D\n",
    "* # .blure\n",
    "* # .GaussianBlur\n",
    "* # .medianBlur\n",
    "\n",
    "* # np.array() --> kernal\n"
   ]
  },
  {
   "cell_type": "markdown",
   "id": "e8ef622f",
   "metadata": {},
   "source": [
    "# Thresholding\n",
    "\n",
    "* # threshold\n",
    "* # Canny \n",
    "* # FindContours\n",
    "* # DrawContours\n",
    "* # selectROI\n",
    "* # addWeighted \n",
    "* # crop_img = img[y:y+h,x:x+w]\n",
    "* # split\n",
    "* # merge"
   ]
  },
  {
   "cell_type": "markdown",
   "id": "c0435897",
   "metadata": {},
   "source": [
    "# Alpha, Beta , Gamma"
   ]
  },
  {
   "cell_type": "markdown",
   "id": "6616b858",
   "metadata": {},
   "source": []
  },
  {
   "cell_type": "code",
   "execution_count": null,
   "id": "a92be070",
   "metadata": {},
   "outputs": [],
   "source": []
  },
  {
   "cell_type": "code",
   "execution_count": null,
   "id": "1f480b0d",
   "metadata": {},
   "outputs": [],
   "source": []
  },
  {
   "cell_type": "code",
   "execution_count": null,
   "id": "d18cc4c4",
   "metadata": {},
   "outputs": [],
   "source": []
  }
 ],
 "metadata": {
  "kernelspec": {
   "display_name": "Python 3 (ipykernel)",
   "language": "python",
   "name": "python3"
  },
  "language_info": {
   "codemirror_mode": {
    "name": "ipython",
    "version": 3
   },
   "file_extension": ".py",
   "mimetype": "text/x-python",
   "name": "python",
   "nbconvert_exporter": "python",
   "pygments_lexer": "ipython3",
   "version": "3.9.2"
  }
 },
 "nbformat": 4,
 "nbformat_minor": 5
}
