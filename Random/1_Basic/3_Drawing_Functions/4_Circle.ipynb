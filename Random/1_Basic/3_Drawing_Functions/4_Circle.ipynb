{
 "cells": [
  {
   "cell_type": "markdown",
   "id": "a256dab8",
   "metadata": {},
   "source": [
    "# cv2.circle(image, center_coordinates, radius, color, thickness)"
   ]
  },
  {
   "cell_type": "code",
   "execution_count": 1,
   "id": "92070004",
   "metadata": {},
   "outputs": [],
   "source": [
    "import cv2\n",
    "from matplotlib import pyplot as plt\n",
    "\n",
    "def value(image):\n",
    "    image = cv2.cvtColor(image, cv2.COLOR_BGR2RGB)\n",
    "    plt.figure(figsize=(10,10))\n",
    "    return image"
   ]
  },
  {
   "cell_type": "code",
   "execution_count": 2,
   "id": "c4f4ddcd",
   "metadata": {},
   "outputs": [
    {
     "ename": "error",
     "evalue": "OpenCV(4.5.1) ../modules/imgproc/src/color.cpp:182: error: (-215:Assertion failed) !_src.empty() in function 'cvtColor'\n",
     "output_type": "error",
     "traceback": [
      "\u001b[0;31m---------------------------------------------------------------------------\u001b[0m",
      "\u001b[0;31merror\u001b[0m                                     Traceback (most recent call last)",
      "Input \u001b[0;32mIn [2]\u001b[0m, in \u001b[0;36m<cell line: 2>\u001b[0;34m()\u001b[0m\n\u001b[1;32m      1\u001b[0m img \u001b[38;5;241m=\u001b[39m cv2\u001b[38;5;241m.\u001b[39mimread(\u001b[38;5;124m\"\u001b[39m\u001b[38;5;124m../3_Access_Pixel,row,colum_and_croping/pic/bg.jpg\u001b[39m\u001b[38;5;124m\"\u001b[39m)\n\u001b[0;32m----> 2\u001b[0m plt\u001b[38;5;241m.\u001b[39mimshow(\u001b[43mvalue\u001b[49m\u001b[43m(\u001b[49m\u001b[43mimg\u001b[49m\u001b[43m)\u001b[49m)\n",
      "Input \u001b[0;32mIn [1]\u001b[0m, in \u001b[0;36mvalue\u001b[0;34m(image)\u001b[0m\n\u001b[1;32m      4\u001b[0m \u001b[38;5;28;01mdef\u001b[39;00m \u001b[38;5;21mvalue\u001b[39m(image):\n\u001b[0;32m----> 5\u001b[0m     image \u001b[38;5;241m=\u001b[39m \u001b[43mcv2\u001b[49m\u001b[38;5;241;43m.\u001b[39;49m\u001b[43mcvtColor\u001b[49m\u001b[43m(\u001b[49m\u001b[43mimage\u001b[49m\u001b[43m,\u001b[49m\u001b[43m \u001b[49m\u001b[43mcv2\u001b[49m\u001b[38;5;241;43m.\u001b[39;49m\u001b[43mCOLOR_BGR2RGB\u001b[49m\u001b[43m)\u001b[49m\n\u001b[1;32m      6\u001b[0m     plt\u001b[38;5;241m.\u001b[39mfigure(figsize\u001b[38;5;241m=\u001b[39m(\u001b[38;5;241m10\u001b[39m,\u001b[38;5;241m10\u001b[39m))\n\u001b[1;32m      7\u001b[0m     \u001b[38;5;28;01mreturn\u001b[39;00m image\n",
      "\u001b[0;31merror\u001b[0m: OpenCV(4.5.1) ../modules/imgproc/src/color.cpp:182: error: (-215:Assertion failed) !_src.empty() in function 'cvtColor'\n"
     ]
    }
   ],
   "source": [
    "img = cv2.imread(\"../3_Access_Pixel,row,colum_and_croping/pic/bg.jpg\")\n",
    "plt.imshow(value(img))"
   ]
  },
  {
   "cell_type": "markdown",
   "id": "667a9614",
   "metadata": {},
   "source": [
    "# Draw a circle on sun\n"
   ]
  },
  {
   "cell_type": "code",
   "execution_count": null,
   "id": "9c709d39",
   "metadata": {},
   "outputs": [],
   "source": [
    "x = 680\n",
    "y = 300\n",
    "\n",
    "center_coordinates = (x,y)\n",
    "radius = (0)\n",
    "\n",
    "cir = cv2.circle(value(img), center_coordinates, radius, (0,0,0), 10)\n",
    "plt.imshow(cir)"
   ]
  },
  {
   "cell_type": "markdown",
   "id": "caa91d86",
   "metadata": {},
   "source": [
    "# Increase size of radius\n"
   ]
  },
  {
   "cell_type": "code",
   "execution_count": null,
   "id": "487a1746",
   "metadata": {},
   "outputs": [],
   "source": [
    "x = 680\n",
    "y = 300\n",
    "\n",
    "center_coordinates = (x,y)\n",
    "radius = (100)\n",
    "\n",
    "cir = cv2.circle(value(img), center_coordinates, radius, (0,0,0), 10)\n",
    "plt.imshow(cir)"
   ]
  }
 ],
 "metadata": {
  "kernelspec": {
   "display_name": "Python 3 (ipykernel)",
   "language": "python",
   "name": "python3"
  },
  "language_info": {
   "codemirror_mode": {
    "name": "ipython",
    "version": 3
   },
   "file_extension": ".py",
   "mimetype": "text/x-python",
   "name": "python",
   "nbconvert_exporter": "python",
   "pygments_lexer": "ipython3",
   "version": "3.9.2"
  }
 },
 "nbformat": 4,
 "nbformat_minor": 5
}
